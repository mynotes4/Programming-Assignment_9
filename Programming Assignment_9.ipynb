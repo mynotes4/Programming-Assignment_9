{
 "cells": [
  {
   "cell_type": "code",
   "execution_count": null,
   "id": "e1ea93e0",
   "metadata": {},
   "outputs": [],
   "source": [
    "# 1. Write a Python program to check if the given number is a Disarium Number?\n",
    "n = int(input(\"Enter a no \"))\n",
    "n1 = n\n",
    "c = 0\n",
    "s = 0\n",
    "while n > 0:\n",
    "    c = c + 1\n",
    "    n = int(n/10)\n",
    "n = n1\n",
    "for i in range(c,0,-1):\n",
    "    s = s + (n%10)**i\n",
    "    n = int(n/10)\n",
    "if s == n1:\n",
    "    print(\"Yes . It is a Disarium number \")\n",
    "else:\n",
    "    print(\"No , It is not Disarium number \")"
   ]
  },
  {
   "cell_type": "code",
   "execution_count": null,
   "id": "f87bd8ea",
   "metadata": {},
   "outputs": [],
   "source": [
    "# 2. Write a Python program to print all disarium numbers between 1 to 100?\n",
    "for n in range (0,100+1):\n",
    "    n1 = n\n",
    "    c = 0\n",
    "    s = 0\n",
    "    while n > 0:\n",
    "        c = c + 1\n",
    "        n = int(n/10)\n",
    "    n = n1\n",
    "    for i in range(c,0,-1):\n",
    "        s = s + (n%10)**i\n",
    "        n = int(n/10)\n",
    "    if s == n1:\n",
    "        print(s)"
   ]
  },
  {
   "cell_type": "code",
   "execution_count": null,
   "id": "8c0c2333",
   "metadata": {},
   "outputs": [],
   "source": [
    "# 3. Write a Python program to check if the given number is Happy Number?\n",
    "n = int(input(\"Enter a no \"))\n",
    "s = 0\n",
    "while s not in range(1,10):\n",
    "    s = 0\n",
    "    while n > 0:\n",
    "        s = s + (n%10)**2\n",
    "        n = int(n/10)\n",
    "    n = s\n",
    "if s == 1:\n",
    "    print(\"Yes , It is a Happy Number\")\n",
    "else:\n",
    "    print(\"No , It is not a Happy Number\")"
   ]
  },
  {
   "cell_type": "code",
   "execution_count": null,
   "id": "9b5ee35a",
   "metadata": {},
   "outputs": [],
   "source": [
    "# 4. Write a Python program to print all happy numbers between 1 and 100?\n",
    "for n in range(1,100+1):\n",
    "    n1 = n\n",
    "    s = 0\n",
    "    while s not in range(1,10):\n",
    "        s = 0\n",
    "        while n > 0:\n",
    "            s = s + (n%10)**2\n",
    "            n = int(n/10)\n",
    "        n = s\n",
    "    if s == 1:\n",
    "        print(n1)"
   ]
  },
  {
   "cell_type": "code",
   "execution_count": null,
   "id": "a0ee6034",
   "metadata": {},
   "outputs": [],
   "source": [
    "# 5. Write a Python program to determine whether the given number is a Harshad Number?\n",
    "n = int(input(\"Enter a no \"))\n",
    "n1 = n\n",
    "s = 0\n",
    "while n > 0:\n",
    "    s = s + n%10\n",
    "    n = int(n/10)\n",
    "if n1 % s == 0:\n",
    "    print(\"Yes , It is a Harshad Number \")\n",
    "else:\n",
    "    print(\"No , Is is not a Harshad Number\")"
   ]
  },
  {
   "cell_type": "code",
   "execution_count": null,
   "id": "751ecc25",
   "metadata": {},
   "outputs": [],
   "source": [
    "# 6. Write a Python program to print all pronic numbers between 1 and 100?\n",
    "import math\n",
    "for n in range(1,100+1):\n",
    "    s = int(math.sqrt(n))\n",
    "    if n == s*(s + 1):\n",
    "        print(n)"
   ]
  }
 ],
 "metadata": {
  "kernelspec": {
   "display_name": "Python 3 (ipykernel)",
   "language": "python",
   "name": "python3"
  },
  "language_info": {
   "codemirror_mode": {
    "name": "ipython",
    "version": 3
   },
   "file_extension": ".py",
   "mimetype": "text/x-python",
   "name": "python",
   "nbconvert_exporter": "python",
   "pygments_lexer": "ipython3",
   "version": "3.9.12"
  }
 },
 "nbformat": 4,
 "nbformat_minor": 5
}
